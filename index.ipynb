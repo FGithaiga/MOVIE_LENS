{
 "cells": [
  {
   "cell_type": "markdown",
   "id": "0c9deeb5",
   "metadata": {},
   "source": [
    "# **PROJECT TITLE : BOOSTING USER ENGAGEMENT VIA GENRE INSIGHTS**"
   ]
  },
  {
   "cell_type": "markdown",
   "id": "84c1fd41",
   "metadata": {},
   "source": [
    "![Movies Lens](Movies_Lens.png)"
   ]
  },
  {
   "cell_type": "markdown",
   "id": "a949031e",
   "metadata": {},
   "source": [
    "# **PROJECT OVERVIEW** \n",
    "This project focuses on the analysis and modeling of user preferences and movie ratings using the MovieLens dataset. The dataset is composed of three separate files: movies.csv, ratings.csv, and users.csv, each providing critical information about movies, user interactions, and demographic attributes. The data was first cleaned to handle missing values, standardize formats, and ensure consistency across datasets. Following this, the datasets were merged into a single comprehensive DataFrame, df_Merged, to enable an integrated analysis of user behavior and movie features.\n"
   ]
  },
  {
   "cell_type": "markdown",
   "id": "0e864d67",
   "metadata": {},
   "source": [
    "# **PROBLEM STATEMENT**\n",
    "Streaming platforms and movie services struggle to retain users due to irrelevant recommendations and underutilized content categories. By analyzing movie metadata such as genres, titles, and missing poster URLs, we aim to improve content organization, recommendability, and engagement on the platform."
   ]
  },
  {
   "cell_type": "markdown",
   "id": "ed046958",
   "metadata": {},
   "source": [
    "# **OBJECTIVES**\n",
    "1. To analyze and visualize the distribution of user ages in the dataset to identify the most represented age groups.\n",
    "2. To examine the gender breakdown of users in order to understand the demographic composition of the audience.\n",
    "3. To investigate how users rate content, including the distribution of rating scores and the identification of trends or biases.\n",
    "4. To compare rating distributions across user occupations.\n"
   ]
  },
  {
   "cell_type": "code",
   "execution_count": 1,
   "id": "e7841dc3",
   "metadata": {},
   "outputs": [],
   "source": [
    "# importing Libraries\n",
    "import os\n",
    "import pandas as pd\n",
    "import numpy as np\n",
    "import matplotlib.pyplot as plt\n",
    "import seaborn as sns"
   ]
  },
  {
   "cell_type": "markdown",
   "id": "b1660426",
   "metadata": {},
   "source": [
    "# **1. DATA LOADING & EXPLORATION**"
   ]
  },
  {
   "cell_type": "markdown",
   "id": "a55377fe",
   "metadata": {},
   "source": [
    "#### **1.movies.csv**"
   ]
  },
  {
   "cell_type": "code",
   "execution_count": 2,
   "id": "b6a5ee1f",
   "metadata": {},
   "outputs": [
    {
     "data": {
      "text/html": [
       "<div>\n",
       "<style scoped>\n",
       "    .dataframe tbody tr th:only-of-type {\n",
       "        vertical-align: middle;\n",
       "    }\n",
       "\n",
       "    .dataframe tbody tr th {\n",
       "        vertical-align: top;\n",
       "    }\n",
       "\n",
       "    .dataframe thead th {\n",
       "        text-align: right;\n",
       "    }\n",
       "</style>\n",
       "<table border=\"1\" class=\"dataframe\">\n",
       "  <thead>\n",
       "    <tr style=\"text-align: right;\">\n",
       "      <th></th>\n",
       "      <th>movie_id</th>\n",
       "      <th>movie_title</th>\n",
       "      <th>movie_genres</th>\n",
       "      <th>poster_url</th>\n",
       "    </tr>\n",
       "  </thead>\n",
       "  <tbody>\n",
       "    <tr>\n",
       "      <th>0</th>\n",
       "      <td>3107</td>\n",
       "      <td>Backdraft (1991)</td>\n",
       "      <td>0, 7</td>\n",
       "      <td>https://image.tmdb.org/t/p/w500/bymJtYNIdiAiBR...</td>\n",
       "    </tr>\n",
       "    <tr>\n",
       "      <th>1</th>\n",
       "      <td>2114</td>\n",
       "      <td>Outsiders, The (1983)</td>\n",
       "      <td>7</td>\n",
       "      <td>https://image.tmdb.org/t/p/w500/pl8Tf36TAOb2i5...</td>\n",
       "    </tr>\n",
       "    <tr>\n",
       "      <th>2</th>\n",
       "      <td>256</td>\n",
       "      <td>Junior (1994)</td>\n",
       "      <td>4, 15</td>\n",
       "      <td>https://image.tmdb.org/t/p/w500/4tRF43CbEYHmV8...</td>\n",
       "    </tr>\n",
       "    <tr>\n",
       "      <th>3</th>\n",
       "      <td>1389</td>\n",
       "      <td>Jaws 3-D (1983)</td>\n",
       "      <td>0, 10</td>\n",
       "      <td>https://image.tmdb.org/t/p/w500/kqDXj53F9paqVG...</td>\n",
       "    </tr>\n",
       "    <tr>\n",
       "      <th>4</th>\n",
       "      <td>3635</td>\n",
       "      <td>Spy Who Loved Me, The (1977)</td>\n",
       "      <td>0</td>\n",
       "      <td>https://image.tmdb.org/t/p/w500/3ZxHKFxMYvAko6...</td>\n",
       "    </tr>\n",
       "    <tr>\n",
       "      <th>...</th>\n",
       "      <td>...</td>\n",
       "      <td>...</td>\n",
       "      <td>...</td>\n",
       "      <td>...</td>\n",
       "    </tr>\n",
       "    <tr>\n",
       "      <th>3701</th>\n",
       "      <td>311</td>\n",
       "      <td>Relative Fear (1994)</td>\n",
       "      <td>10, 16</td>\n",
       "      <td>https://image.tmdb.org/t/p/w500/wG6wdsB9lqCwxs...</td>\n",
       "    </tr>\n",
       "    <tr>\n",
       "      <th>3702</th>\n",
       "      <td>2563</td>\n",
       "      <td>Beauty (1998)</td>\n",
       "      <td>7</td>\n",
       "      <td>NaN</td>\n",
       "    </tr>\n",
       "    <tr>\n",
       "      <th>3703</th>\n",
       "      <td>763</td>\n",
       "      <td>Last of the High Kings, The (a.k.a. Summer Fli...</td>\n",
       "      <td>7</td>\n",
       "      <td>https://image.tmdb.org/t/p/w500/pSdzsYKg1wpmYp...</td>\n",
       "    </tr>\n",
       "    <tr>\n",
       "      <th>3704</th>\n",
       "      <td>1724</td>\n",
       "      <td>Full Speed (1996)</td>\n",
       "      <td>7</td>\n",
       "      <td>https://image.tmdb.org/t/p/w500/hrExpoA2E2bCrS...</td>\n",
       "    </tr>\n",
       "    <tr>\n",
       "      <th>3705</th>\n",
       "      <td>2584</td>\n",
       "      <td>Foolish (1999)</td>\n",
       "      <td>4</td>\n",
       "      <td>https://image.tmdb.org/t/p/w500/p1WbWy2nq6PXbF...</td>\n",
       "    </tr>\n",
       "  </tbody>\n",
       "</table>\n",
       "<p>3706 rows × 4 columns</p>\n",
       "</div>"
      ],
      "text/plain": [
       "      movie_id                                        movie_title  \\\n",
       "0         3107                                   Backdraft (1991)   \n",
       "1         2114                              Outsiders, The (1983)   \n",
       "2          256                                      Junior (1994)   \n",
       "3         1389                                    Jaws 3-D (1983)   \n",
       "4         3635                       Spy Who Loved Me, The (1977)   \n",
       "...        ...                                                ...   \n",
       "3701       311                               Relative Fear (1994)   \n",
       "3702      2563                                      Beauty (1998)   \n",
       "3703       763  Last of the High Kings, The (a.k.a. Summer Fli...   \n",
       "3704      1724                                  Full Speed (1996)   \n",
       "3705      2584                                     Foolish (1999)   \n",
       "\n",
       "     movie_genres                                         poster_url  \n",
       "0            0, 7  https://image.tmdb.org/t/p/w500/bymJtYNIdiAiBR...  \n",
       "1               7  https://image.tmdb.org/t/p/w500/pl8Tf36TAOb2i5...  \n",
       "2           4, 15  https://image.tmdb.org/t/p/w500/4tRF43CbEYHmV8...  \n",
       "3           0, 10  https://image.tmdb.org/t/p/w500/kqDXj53F9paqVG...  \n",
       "4               0  https://image.tmdb.org/t/p/w500/3ZxHKFxMYvAko6...  \n",
       "...           ...                                                ...  \n",
       "3701       10, 16  https://image.tmdb.org/t/p/w500/wG6wdsB9lqCwxs...  \n",
       "3702            7                                                NaN  \n",
       "3703            7  https://image.tmdb.org/t/p/w500/pSdzsYKg1wpmYp...  \n",
       "3704            7  https://image.tmdb.org/t/p/w500/hrExpoA2E2bCrS...  \n",
       "3705            4  https://image.tmdb.org/t/p/w500/p1WbWy2nq6PXbF...  \n",
       "\n",
       "[3706 rows x 4 columns]"
      ]
     },
     "execution_count": 2,
     "metadata": {},
     "output_type": "execute_result"
    }
   ],
   "source": [
    "# Loading the dataframe\n",
    "df_Movies =pd.read_csv(\"Data/movies.csv\")\n",
    "df_Movies"
   ]
  },
  {
   "cell_type": "markdown",
   "id": "71d8ff9d",
   "metadata": {},
   "source": [
    "movies.csv: Contains movie metadata including titles, genres, and poster URLs."
   ]
  },
  {
   "cell_type": "code",
   "execution_count": 3,
   "id": "5793969a",
   "metadata": {},
   "outputs": [
    {
     "name": "stdout",
     "output_type": "stream",
     "text": [
      "<class 'pandas.core.frame.DataFrame'>\n",
      "RangeIndex: 3706 entries, 0 to 3705\n",
      "Data columns (total 4 columns):\n",
      " #   Column        Non-Null Count  Dtype \n",
      "---  ------        --------------  ----- \n",
      " 0   movie_id      3706 non-null   int64 \n",
      " 1   movie_title   3706 non-null   object\n",
      " 2   movie_genres  3706 non-null   object\n",
      " 3   poster_url    3648 non-null   object\n",
      "dtypes: int64(1), object(3)\n",
      "memory usage: 115.9+ KB\n",
      "The number of rows and columns in the Movies dataset are:  (3706, 4)\n"
     ]
    }
   ],
   "source": [
    "# Get an overview of the df_Movies DataFrame\n",
    "df_Movies.info()\n",
    "\n",
    "# Displaying the first 5 rows of the Ratings dataset\n",
    "df_Movies.shape\n",
    "print(\"The number of rows and columns in the Movies dataset are: \", df_Movies.shape)"
   ]
  },
  {
   "cell_type": "code",
   "execution_count": 4,
   "id": "7b2e5503",
   "metadata": {},
   "outputs": [
    {
     "data": {
      "text/html": [
       "<div>\n",
       "<style scoped>\n",
       "    .dataframe tbody tr th:only-of-type {\n",
       "        vertical-align: middle;\n",
       "    }\n",
       "\n",
       "    .dataframe tbody tr th {\n",
       "        vertical-align: top;\n",
       "    }\n",
       "\n",
       "    .dataframe thead th {\n",
       "        text-align: right;\n",
       "    }\n",
       "</style>\n",
       "<table border=\"1\" class=\"dataframe\">\n",
       "  <thead>\n",
       "    <tr style=\"text-align: right;\">\n",
       "      <th></th>\n",
       "      <th>movie_id</th>\n",
       "      <th>movie_title</th>\n",
       "      <th>movie_genres</th>\n",
       "      <th>poster_url</th>\n",
       "    </tr>\n",
       "  </thead>\n",
       "  <tbody>\n",
       "    <tr>\n",
       "      <th>count</th>\n",
       "      <td>3706.000000</td>\n",
       "      <td>3706</td>\n",
       "      <td>3706</td>\n",
       "      <td>3648</td>\n",
       "    </tr>\n",
       "    <tr>\n",
       "      <th>unique</th>\n",
       "      <td>NaN</td>\n",
       "      <td>3706</td>\n",
       "      <td>301</td>\n",
       "      <td>3574</td>\n",
       "    </tr>\n",
       "    <tr>\n",
       "      <th>top</th>\n",
       "      <td>NaN</td>\n",
       "      <td>Just Cause (1995)</td>\n",
       "      <td>7</td>\n",
       "      <td>https://image.tmdb.org/t/p/w500/yL1rYMHlqZtZVE...</td>\n",
       "    </tr>\n",
       "    <tr>\n",
       "      <th>freq</th>\n",
       "      <td>NaN</td>\n",
       "      <td>1</td>\n",
       "      <td>759</td>\n",
       "      <td>5</td>\n",
       "    </tr>\n",
       "    <tr>\n",
       "      <th>mean</th>\n",
       "      <td>1995.573125</td>\n",
       "      <td>NaN</td>\n",
       "      <td>NaN</td>\n",
       "      <td>NaN</td>\n",
       "    </tr>\n",
       "    <tr>\n",
       "      <th>std</th>\n",
       "      <td>1151.148045</td>\n",
       "      <td>NaN</td>\n",
       "      <td>NaN</td>\n",
       "      <td>NaN</td>\n",
       "    </tr>\n",
       "    <tr>\n",
       "      <th>min</th>\n",
       "      <td>1.000000</td>\n",
       "      <td>NaN</td>\n",
       "      <td>NaN</td>\n",
       "      <td>NaN</td>\n",
       "    </tr>\n",
       "    <tr>\n",
       "      <th>25%</th>\n",
       "      <td>989.250000</td>\n",
       "      <td>NaN</td>\n",
       "      <td>NaN</td>\n",
       "      <td>NaN</td>\n",
       "    </tr>\n",
       "    <tr>\n",
       "      <th>50%</th>\n",
       "      <td>2033.500000</td>\n",
       "      <td>NaN</td>\n",
       "      <td>NaN</td>\n",
       "      <td>NaN</td>\n",
       "    </tr>\n",
       "    <tr>\n",
       "      <th>75%</th>\n",
       "      <td>2990.750000</td>\n",
       "      <td>NaN</td>\n",
       "      <td>NaN</td>\n",
       "      <td>NaN</td>\n",
       "    </tr>\n",
       "    <tr>\n",
       "      <th>max</th>\n",
       "      <td>3952.000000</td>\n",
       "      <td>NaN</td>\n",
       "      <td>NaN</td>\n",
       "      <td>NaN</td>\n",
       "    </tr>\n",
       "  </tbody>\n",
       "</table>\n",
       "</div>"
      ],
      "text/plain": [
       "           movie_id        movie_title movie_genres  \\\n",
       "count   3706.000000               3706         3706   \n",
       "unique          NaN               3706          301   \n",
       "top             NaN  Just Cause (1995)            7   \n",
       "freq            NaN                  1          759   \n",
       "mean    1995.573125                NaN          NaN   \n",
       "std     1151.148045                NaN          NaN   \n",
       "min        1.000000                NaN          NaN   \n",
       "25%      989.250000                NaN          NaN   \n",
       "50%     2033.500000                NaN          NaN   \n",
       "75%     2990.750000                NaN          NaN   \n",
       "max     3952.000000                NaN          NaN   \n",
       "\n",
       "                                               poster_url  \n",
       "count                                                3648  \n",
       "unique                                               3574  \n",
       "top     https://image.tmdb.org/t/p/w500/yL1rYMHlqZtZVE...  \n",
       "freq                                                    5  \n",
       "mean                                                  NaN  \n",
       "std                                                   NaN  \n",
       "min                                                   NaN  \n",
       "25%                                                   NaN  \n",
       "50%                                                   NaN  \n",
       "75%                                                   NaN  \n",
       "max                                                   NaN  "
      ]
     },
     "execution_count": 4,
     "metadata": {},
     "output_type": "execute_result"
    }
   ],
   "source": [
    "# Statistics of the Movies dataset\n",
    "df_Movies.describe(include='all')"
   ]
  },
  {
   "cell_type": "code",
   "execution_count": 5,
   "id": "85c0e519",
   "metadata": {},
   "outputs": [
    {
     "data": {
      "text/plain": [
       "movie_id         0\n",
       "movie_title      0\n",
       "movie_genres     0\n",
       "poster_url      58\n",
       "dtype: int64"
      ]
     },
     "execution_count": 5,
     "metadata": {},
     "output_type": "execute_result"
    }
   ],
   "source": [
    "# Check for missing values in the Movies dataset\n",
    "df_Movies.isnull().sum()"
   ]
  },
  {
   "cell_type": "markdown",
   "id": "89a3d4fb",
   "metadata": {},
   "source": [
    "There are missing 58 values in poster_url."
   ]
  },
  {
   "cell_type": "code",
   "execution_count": 6,
   "id": "7fbfe8ad",
   "metadata": {},
   "outputs": [
    {
     "data": {
      "text/plain": [
       "0"
      ]
     },
     "execution_count": 6,
     "metadata": {},
     "output_type": "execute_result"
    }
   ],
   "source": [
    "# Check for duplicates in the Movies dataset\n",
    "df_Movies.duplicated().sum()\n"
   ]
  },
  {
   "cell_type": "markdown",
   "id": "dfbc0bb5",
   "metadata": {},
   "source": [
    "There are no fully duplicated rows in df_Movies."
   ]
  },
  {
   "cell_type": "markdown",
   "id": "702397c7",
   "metadata": {},
   "source": [
    "#### **2. ratings.csv**"
   ]
  },
  {
   "cell_type": "code",
   "execution_count": 7,
   "id": "6c24749b",
   "metadata": {},
   "outputs": [
    {
     "data": {
      "text/html": [
       "<div>\n",
       "<style scoped>\n",
       "    .dataframe tbody tr th:only-of-type {\n",
       "        vertical-align: middle;\n",
       "    }\n",
       "\n",
       "    .dataframe tbody tr th {\n",
       "        vertical-align: top;\n",
       "    }\n",
       "\n",
       "    .dataframe thead th {\n",
       "        text-align: right;\n",
       "    }\n",
       "</style>\n",
       "<table border=\"1\" class=\"dataframe\">\n",
       "  <thead>\n",
       "    <tr style=\"text-align: right;\">\n",
       "      <th></th>\n",
       "      <th>user_id</th>\n",
       "      <th>movie_id</th>\n",
       "      <th>user_rating</th>\n",
       "      <th>timestamp</th>\n",
       "    </tr>\n",
       "  </thead>\n",
       "  <tbody>\n",
       "    <tr>\n",
       "      <th>0</th>\n",
       "      <td>130</td>\n",
       "      <td>3107</td>\n",
       "      <td>5.0</td>\n",
       "      <td>977432193</td>\n",
       "    </tr>\n",
       "    <tr>\n",
       "      <th>1</th>\n",
       "      <td>3829</td>\n",
       "      <td>2114</td>\n",
       "      <td>4.0</td>\n",
       "      <td>965932967</td>\n",
       "    </tr>\n",
       "    <tr>\n",
       "      <th>2</th>\n",
       "      <td>1265</td>\n",
       "      <td>256</td>\n",
       "      <td>1.0</td>\n",
       "      <td>1012103552</td>\n",
       "    </tr>\n",
       "    <tr>\n",
       "      <th>3</th>\n",
       "      <td>2896</td>\n",
       "      <td>1389</td>\n",
       "      <td>5.0</td>\n",
       "      <td>972004605</td>\n",
       "    </tr>\n",
       "    <tr>\n",
       "      <th>4</th>\n",
       "      <td>5264</td>\n",
       "      <td>3635</td>\n",
       "      <td>4.0</td>\n",
       "      <td>961180111</td>\n",
       "    </tr>\n",
       "    <tr>\n",
       "      <th>...</th>\n",
       "      <td>...</td>\n",
       "      <td>...</td>\n",
       "      <td>...</td>\n",
       "      <td>...</td>\n",
       "    </tr>\n",
       "    <tr>\n",
       "      <th>1000204</th>\n",
       "      <td>4508</td>\n",
       "      <td>2290</td>\n",
       "      <td>4.0</td>\n",
       "      <td>964985140</td>\n",
       "    </tr>\n",
       "    <tr>\n",
       "      <th>1000205</th>\n",
       "      <td>4167</td>\n",
       "      <td>2643</td>\n",
       "      <td>1.0</td>\n",
       "      <td>965335130</td>\n",
       "    </tr>\n",
       "    <tr>\n",
       "      <th>1000206</th>\n",
       "      <td>5799</td>\n",
       "      <td>593</td>\n",
       "      <td>5.0</td>\n",
       "      <td>958054732</td>\n",
       "    </tr>\n",
       "    <tr>\n",
       "      <th>1000207</th>\n",
       "      <td>3224</td>\n",
       "      <td>1693</td>\n",
       "      <td>3.0</td>\n",
       "      <td>968543692</td>\n",
       "    </tr>\n",
       "    <tr>\n",
       "      <th>1000208</th>\n",
       "      <td>5493</td>\n",
       "      <td>454</td>\n",
       "      <td>3.0</td>\n",
       "      <td>959814459</td>\n",
       "    </tr>\n",
       "  </tbody>\n",
       "</table>\n",
       "<p>1000209 rows × 4 columns</p>\n",
       "</div>"
      ],
      "text/plain": [
       "         user_id  movie_id  user_rating   timestamp\n",
       "0            130      3107          5.0   977432193\n",
       "1           3829      2114          4.0   965932967\n",
       "2           1265       256          1.0  1012103552\n",
       "3           2896      1389          5.0   972004605\n",
       "4           5264      3635          4.0   961180111\n",
       "...          ...       ...          ...         ...\n",
       "1000204     4508      2290          4.0   964985140\n",
       "1000205     4167      2643          1.0   965335130\n",
       "1000206     5799       593          5.0   958054732\n",
       "1000207     3224      1693          3.0   968543692\n",
       "1000208     5493       454          3.0   959814459\n",
       "\n",
       "[1000209 rows x 4 columns]"
      ]
     },
     "execution_count": 7,
     "metadata": {},
     "output_type": "execute_result"
    }
   ],
   "source": [
    "# Loading the dataset\n",
    "df_Ratings = pd.read_csv(\"Data/ratings.csv\")\n",
    "df_Ratings"
   ]
  },
  {
   "cell_type": "markdown",
   "id": "f20b4975",
   "metadata": {},
   "source": [
    "ratings.csv: Contains movie ratings by users along with a timestamp that is in Unix time format."
   ]
  },
  {
   "cell_type": "code",
   "execution_count": 8,
   "id": "afee8212",
   "metadata": {},
   "outputs": [
    {
     "name": "stdout",
     "output_type": "stream",
     "text": [
      "<class 'pandas.core.frame.DataFrame'>\n",
      "RangeIndex: 1000209 entries, 0 to 1000208\n",
      "Data columns (total 4 columns):\n",
      " #   Column       Non-Null Count    Dtype  \n",
      "---  ------       --------------    -----  \n",
      " 0   user_id      1000209 non-null  int64  \n",
      " 1   movie_id     1000209 non-null  int64  \n",
      " 2   user_rating  1000209 non-null  float64\n",
      " 3   timestamp    1000209 non-null  int64  \n",
      "dtypes: float64(1), int64(3)\n",
      "memory usage: 30.5 MB\n",
      "The number of rows and columns in the Movies dataset are:  (1000209, 4)\n"
     ]
    }
   ],
   "source": [
    "# Get an overview of the df_Ratings DataFrame\n",
    "df_Ratings.info()\n",
    "\n",
    "# Displaying the shape of the Ratings dataset\n",
    "df_Ratings.shape\n",
    "print(\"The number of rows and columns in the Movies dataset are: \", df_Ratings.shape)"
   ]
  },
  {
   "cell_type": "code",
   "execution_count": 9,
   "id": "05661da0",
   "metadata": {},
   "outputs": [
    {
     "data": {
      "text/html": [
       "<div>\n",
       "<style scoped>\n",
       "    .dataframe tbody tr th:only-of-type {\n",
       "        vertical-align: middle;\n",
       "    }\n",
       "\n",
       "    .dataframe tbody tr th {\n",
       "        vertical-align: top;\n",
       "    }\n",
       "\n",
       "    .dataframe thead th {\n",
       "        text-align: right;\n",
       "    }\n",
       "</style>\n",
       "<table border=\"1\" class=\"dataframe\">\n",
       "  <thead>\n",
       "    <tr style=\"text-align: right;\">\n",
       "      <th></th>\n",
       "      <th>user_id</th>\n",
       "      <th>movie_id</th>\n",
       "      <th>user_rating</th>\n",
       "      <th>timestamp</th>\n",
       "    </tr>\n",
       "  </thead>\n",
       "  <tbody>\n",
       "    <tr>\n",
       "      <th>count</th>\n",
       "      <td>1.000209e+06</td>\n",
       "      <td>1.000209e+06</td>\n",
       "      <td>1.000209e+06</td>\n",
       "      <td>1.000209e+06</td>\n",
       "    </tr>\n",
       "    <tr>\n",
       "      <th>mean</th>\n",
       "      <td>3.024512e+03</td>\n",
       "      <td>1.865540e+03</td>\n",
       "      <td>3.581564e+00</td>\n",
       "      <td>9.722437e+08</td>\n",
       "    </tr>\n",
       "    <tr>\n",
       "      <th>std</th>\n",
       "      <td>1.728413e+03</td>\n",
       "      <td>1.096041e+03</td>\n",
       "      <td>1.117102e+00</td>\n",
       "      <td>1.215256e+07</td>\n",
       "    </tr>\n",
       "    <tr>\n",
       "      <th>min</th>\n",
       "      <td>1.000000e+00</td>\n",
       "      <td>1.000000e+00</td>\n",
       "      <td>1.000000e+00</td>\n",
       "      <td>9.567039e+08</td>\n",
       "    </tr>\n",
       "    <tr>\n",
       "      <th>25%</th>\n",
       "      <td>1.506000e+03</td>\n",
       "      <td>1.030000e+03</td>\n",
       "      <td>3.000000e+00</td>\n",
       "      <td>9.653026e+08</td>\n",
       "    </tr>\n",
       "    <tr>\n",
       "      <th>50%</th>\n",
       "      <td>3.070000e+03</td>\n",
       "      <td>1.835000e+03</td>\n",
       "      <td>4.000000e+00</td>\n",
       "      <td>9.730180e+08</td>\n",
       "    </tr>\n",
       "    <tr>\n",
       "      <th>75%</th>\n",
       "      <td>4.476000e+03</td>\n",
       "      <td>2.770000e+03</td>\n",
       "      <td>4.000000e+00</td>\n",
       "      <td>9.752209e+08</td>\n",
       "    </tr>\n",
       "    <tr>\n",
       "      <th>max</th>\n",
       "      <td>6.040000e+03</td>\n",
       "      <td>3.952000e+03</td>\n",
       "      <td>5.000000e+00</td>\n",
       "      <td>1.046455e+09</td>\n",
       "    </tr>\n",
       "  </tbody>\n",
       "</table>\n",
       "</div>"
      ],
      "text/plain": [
       "            user_id      movie_id   user_rating     timestamp\n",
       "count  1.000209e+06  1.000209e+06  1.000209e+06  1.000209e+06\n",
       "mean   3.024512e+03  1.865540e+03  3.581564e+00  9.722437e+08\n",
       "std    1.728413e+03  1.096041e+03  1.117102e+00  1.215256e+07\n",
       "min    1.000000e+00  1.000000e+00  1.000000e+00  9.567039e+08\n",
       "25%    1.506000e+03  1.030000e+03  3.000000e+00  9.653026e+08\n",
       "50%    3.070000e+03  1.835000e+03  4.000000e+00  9.730180e+08\n",
       "75%    4.476000e+03  2.770000e+03  4.000000e+00  9.752209e+08\n",
       "max    6.040000e+03  3.952000e+03  5.000000e+00  1.046455e+09"
      ]
     },
     "execution_count": 9,
     "metadata": {},
     "output_type": "execute_result"
    }
   ],
   "source": [
    "# Statistics of the Ratings dataset\n",
    "df_Ratings.describe(include='all')"
   ]
  },
  {
   "cell_type": "code",
   "execution_count": 10,
   "id": "f148da8b",
   "metadata": {},
   "outputs": [
    {
     "data": {
      "text/plain": [
       "user_id        0\n",
       "movie_id       0\n",
       "user_rating    0\n",
       "timestamp      0\n",
       "dtype: int64"
      ]
     },
     "execution_count": 10,
     "metadata": {},
     "output_type": "execute_result"
    }
   ],
   "source": [
    "# Checking for missing values in the Ratings dataFrame.\n",
    "df_Ratings.isnull().sum()"
   ]
  },
  {
   "cell_type": "markdown",
   "id": "55305341",
   "metadata": {},
   "source": [
    "There are no missing values in df_Ratings"
   ]
  },
  {
   "cell_type": "code",
   "execution_count": 11,
   "id": "3303f4a3",
   "metadata": {},
   "outputs": [
    {
     "data": {
      "text/plain": [
       "0"
      ]
     },
     "execution_count": 11,
     "metadata": {},
     "output_type": "execute_result"
    }
   ],
   "source": [
    "# Checking for duplicates in the Ratings dataset\n",
    "df_Ratings.duplicated().sum()"
   ]
  },
  {
   "cell_type": "markdown",
   "id": "93957bf6",
   "metadata": {},
   "source": [
    "There are no fully duplicated rows in df_Ratings."
   ]
  },
  {
   "cell_type": "markdown",
   "id": "b5c5179d",
   "metadata": {},
   "source": [
    "#### **3. users.csv**"
   ]
  },
  {
   "cell_type": "code",
   "execution_count": 12,
   "id": "2fe229cc",
   "metadata": {},
   "outputs": [
    {
     "data": {
      "text/html": [
       "<div>\n",
       "<style scoped>\n",
       "    .dataframe tbody tr th:only-of-type {\n",
       "        vertical-align: middle;\n",
       "    }\n",
       "\n",
       "    .dataframe tbody tr th {\n",
       "        vertical-align: top;\n",
       "    }\n",
       "\n",
       "    .dataframe thead th {\n",
       "        text-align: right;\n",
       "    }\n",
       "</style>\n",
       "<table border=\"1\" class=\"dataframe\">\n",
       "  <thead>\n",
       "    <tr style=\"text-align: right;\">\n",
       "      <th></th>\n",
       "      <th>user_id</th>\n",
       "      <th>user_gender</th>\n",
       "      <th>bucketized_user_age</th>\n",
       "      <th>user_occupation_label</th>\n",
       "      <th>user_occupation_text</th>\n",
       "      <th>user_zip_code</th>\n",
       "    </tr>\n",
       "  </thead>\n",
       "  <tbody>\n",
       "    <tr>\n",
       "      <th>0</th>\n",
       "      <td>130</td>\n",
       "      <td>True</td>\n",
       "      <td>35.0</td>\n",
       "      <td>18</td>\n",
       "      <td>technician/engineer</td>\n",
       "      <td>50021</td>\n",
       "    </tr>\n",
       "    <tr>\n",
       "      <th>1</th>\n",
       "      <td>3829</td>\n",
       "      <td>False</td>\n",
       "      <td>25.0</td>\n",
       "      <td>0</td>\n",
       "      <td>academic/educator</td>\n",
       "      <td>22307</td>\n",
       "    </tr>\n",
       "    <tr>\n",
       "      <th>2</th>\n",
       "      <td>1265</td>\n",
       "      <td>False</td>\n",
       "      <td>18.0</td>\n",
       "      <td>21</td>\n",
       "      <td>writer</td>\n",
       "      <td>49321</td>\n",
       "    </tr>\n",
       "    <tr>\n",
       "      <th>3</th>\n",
       "      <td>2896</td>\n",
       "      <td>True</td>\n",
       "      <td>18.0</td>\n",
       "      <td>14</td>\n",
       "      <td>sales/marketing</td>\n",
       "      <td>60073</td>\n",
       "    </tr>\n",
       "    <tr>\n",
       "      <th>4</th>\n",
       "      <td>5264</td>\n",
       "      <td>True</td>\n",
       "      <td>18.0</td>\n",
       "      <td>17</td>\n",
       "      <td>college/grad student</td>\n",
       "      <td>15217</td>\n",
       "    </tr>\n",
       "    <tr>\n",
       "      <th>...</th>\n",
       "      <td>...</td>\n",
       "      <td>...</td>\n",
       "      <td>...</td>\n",
       "      <td>...</td>\n",
       "      <td>...</td>\n",
       "      <td>...</td>\n",
       "    </tr>\n",
       "    <tr>\n",
       "      <th>6035</th>\n",
       "      <td>4264</td>\n",
       "      <td>True</td>\n",
       "      <td>45.0</td>\n",
       "      <td>0</td>\n",
       "      <td>academic/educator</td>\n",
       "      <td>60102</td>\n",
       "    </tr>\n",
       "    <tr>\n",
       "      <th>6036</th>\n",
       "      <td>2657</td>\n",
       "      <td>False</td>\n",
       "      <td>1.0</td>\n",
       "      <td>17</td>\n",
       "      <td>K-12 student</td>\n",
       "      <td>47403</td>\n",
       "    </tr>\n",
       "    <tr>\n",
       "      <th>6037</th>\n",
       "      <td>2626</td>\n",
       "      <td>True</td>\n",
       "      <td>56.0</td>\n",
       "      <td>0</td>\n",
       "      <td>academic/educator</td>\n",
       "      <td>04056</td>\n",
       "    </tr>\n",
       "    <tr>\n",
       "      <th>6038</th>\n",
       "      <td>318</td>\n",
       "      <td>False</td>\n",
       "      <td>56.0</td>\n",
       "      <td>13</td>\n",
       "      <td>retired</td>\n",
       "      <td>55104</td>\n",
       "    </tr>\n",
       "    <tr>\n",
       "      <th>6039</th>\n",
       "      <td>4228</td>\n",
       "      <td>True</td>\n",
       "      <td>50.0</td>\n",
       "      <td>19</td>\n",
       "      <td>tradesman/craftsman</td>\n",
       "      <td>20706</td>\n",
       "    </tr>\n",
       "  </tbody>\n",
       "</table>\n",
       "<p>6040 rows × 6 columns</p>\n",
       "</div>"
      ],
      "text/plain": [
       "      user_id  user_gender  bucketized_user_age  user_occupation_label  \\\n",
       "0         130         True                 35.0                     18   \n",
       "1        3829        False                 25.0                      0   \n",
       "2        1265        False                 18.0                     21   \n",
       "3        2896         True                 18.0                     14   \n",
       "4        5264         True                 18.0                     17   \n",
       "...       ...          ...                  ...                    ...   \n",
       "6035     4264         True                 45.0                      0   \n",
       "6036     2657        False                  1.0                     17   \n",
       "6037     2626         True                 56.0                      0   \n",
       "6038      318        False                 56.0                     13   \n",
       "6039     4228         True                 50.0                     19   \n",
       "\n",
       "      user_occupation_text user_zip_code  \n",
       "0      technician/engineer         50021  \n",
       "1        academic/educator         22307  \n",
       "2                   writer         49321  \n",
       "3          sales/marketing         60073  \n",
       "4     college/grad student         15217  \n",
       "...                    ...           ...  \n",
       "6035     academic/educator         60102  \n",
       "6036          K-12 student         47403  \n",
       "6037     academic/educator         04056  \n",
       "6038               retired         55104  \n",
       "6039   tradesman/craftsman         20706  \n",
       "\n",
       "[6040 rows x 6 columns]"
      ]
     },
     "execution_count": 12,
     "metadata": {},
     "output_type": "execute_result"
    }
   ],
   "source": [
    "# Loading the dataset\n",
    "df_Users = pd.read_csv(\"Data/users.csv\")\n",
    "df_Users"
   ]
  },
  {
   "cell_type": "markdown",
   "id": "376f8356",
   "metadata": {},
   "source": [
    "users.csv: Contains user information such as age, occupation, and gender."
   ]
  },
  {
   "cell_type": "code",
   "execution_count": 13,
   "id": "9364933c",
   "metadata": {},
   "outputs": [
    {
     "name": "stdout",
     "output_type": "stream",
     "text": [
      "<class 'pandas.core.frame.DataFrame'>\n",
      "RangeIndex: 6040 entries, 0 to 6039\n",
      "Data columns (total 6 columns):\n",
      " #   Column                 Non-Null Count  Dtype  \n",
      "---  ------                 --------------  -----  \n",
      " 0   user_id                6040 non-null   int64  \n",
      " 1   user_gender            6040 non-null   bool   \n",
      " 2   bucketized_user_age    6040 non-null   float64\n",
      " 3   user_occupation_label  6040 non-null   int64  \n",
      " 4   user_occupation_text   6040 non-null   object \n",
      " 5   user_zip_code          6040 non-null   object \n",
      "dtypes: bool(1), float64(1), int64(2), object(2)\n",
      "memory usage: 242.0+ KB\n",
      "The number of rows and columns in the Movies dataset are:  (6040, 6)\n"
     ]
    }
   ],
   "source": [
    "# Get an overview of the df_Users DataFrame\n",
    "df_Users.info()\n",
    "\n",
    "# Displaying the shape of the Users dataset\n",
    "df_Users.shape\n",
    "print(\"The number of rows and columns in the Movies dataset are: \", df_Users.shape)"
   ]
  },
  {
   "cell_type": "code",
   "execution_count": 14,
   "id": "373cdead",
   "metadata": {},
   "outputs": [
    {
     "data": {
      "text/html": [
       "<div>\n",
       "<style scoped>\n",
       "    .dataframe tbody tr th:only-of-type {\n",
       "        vertical-align: middle;\n",
       "    }\n",
       "\n",
       "    .dataframe tbody tr th {\n",
       "        vertical-align: top;\n",
       "    }\n",
       "\n",
       "    .dataframe thead th {\n",
       "        text-align: right;\n",
       "    }\n",
       "</style>\n",
       "<table border=\"1\" class=\"dataframe\">\n",
       "  <thead>\n",
       "    <tr style=\"text-align: right;\">\n",
       "      <th></th>\n",
       "      <th>user_id</th>\n",
       "      <th>user_gender</th>\n",
       "      <th>bucketized_user_age</th>\n",
       "      <th>user_occupation_label</th>\n",
       "      <th>user_occupation_text</th>\n",
       "      <th>user_zip_code</th>\n",
       "    </tr>\n",
       "  </thead>\n",
       "  <tbody>\n",
       "    <tr>\n",
       "      <th>count</th>\n",
       "      <td>6040.000000</td>\n",
       "      <td>6040</td>\n",
       "      <td>6040.000000</td>\n",
       "      <td>6040.000000</td>\n",
       "      <td>6040</td>\n",
       "      <td>6040</td>\n",
       "    </tr>\n",
       "    <tr>\n",
       "      <th>unique</th>\n",
       "      <td>NaN</td>\n",
       "      <td>2</td>\n",
       "      <td>NaN</td>\n",
       "      <td>NaN</td>\n",
       "      <td>21</td>\n",
       "      <td>3439</td>\n",
       "    </tr>\n",
       "    <tr>\n",
       "      <th>top</th>\n",
       "      <td>NaN</td>\n",
       "      <td>True</td>\n",
       "      <td>NaN</td>\n",
       "      <td>NaN</td>\n",
       "      <td>college/grad student</td>\n",
       "      <td>48104</td>\n",
       "    </tr>\n",
       "    <tr>\n",
       "      <th>freq</th>\n",
       "      <td>NaN</td>\n",
       "      <td>4331</td>\n",
       "      <td>NaN</td>\n",
       "      <td>NaN</td>\n",
       "      <td>759</td>\n",
       "      <td>19</td>\n",
       "    </tr>\n",
       "    <tr>\n",
       "      <th>mean</th>\n",
       "      <td>3020.500000</td>\n",
       "      <td>NaN</td>\n",
       "      <td>30.639238</td>\n",
       "      <td>11.005795</td>\n",
       "      <td>NaN</td>\n",
       "      <td>NaN</td>\n",
       "    </tr>\n",
       "    <tr>\n",
       "      <th>std</th>\n",
       "      <td>1743.742145</td>\n",
       "      <td>NaN</td>\n",
       "      <td>12.895962</td>\n",
       "      <td>6.450556</td>\n",
       "      <td>NaN</td>\n",
       "      <td>NaN</td>\n",
       "    </tr>\n",
       "    <tr>\n",
       "      <th>min</th>\n",
       "      <td>1.000000</td>\n",
       "      <td>NaN</td>\n",
       "      <td>1.000000</td>\n",
       "      <td>0.000000</td>\n",
       "      <td>NaN</td>\n",
       "      <td>NaN</td>\n",
       "    </tr>\n",
       "    <tr>\n",
       "      <th>25%</th>\n",
       "      <td>1510.750000</td>\n",
       "      <td>NaN</td>\n",
       "      <td>25.000000</td>\n",
       "      <td>6.000000</td>\n",
       "      <td>NaN</td>\n",
       "      <td>NaN</td>\n",
       "    </tr>\n",
       "    <tr>\n",
       "      <th>50%</th>\n",
       "      <td>3020.500000</td>\n",
       "      <td>NaN</td>\n",
       "      <td>25.000000</td>\n",
       "      <td>12.000000</td>\n",
       "      <td>NaN</td>\n",
       "      <td>NaN</td>\n",
       "    </tr>\n",
       "    <tr>\n",
       "      <th>75%</th>\n",
       "      <td>4530.250000</td>\n",
       "      <td>NaN</td>\n",
       "      <td>35.000000</td>\n",
       "      <td>17.000000</td>\n",
       "      <td>NaN</td>\n",
       "      <td>NaN</td>\n",
       "    </tr>\n",
       "    <tr>\n",
       "      <th>max</th>\n",
       "      <td>6040.000000</td>\n",
       "      <td>NaN</td>\n",
       "      <td>56.000000</td>\n",
       "      <td>21.000000</td>\n",
       "      <td>NaN</td>\n",
       "      <td>NaN</td>\n",
       "    </tr>\n",
       "  </tbody>\n",
       "</table>\n",
       "</div>"
      ],
      "text/plain": [
       "            user_id user_gender  bucketized_user_age  user_occupation_label  \\\n",
       "count   6040.000000        6040          6040.000000            6040.000000   \n",
       "unique          NaN           2                  NaN                    NaN   \n",
       "top             NaN        True                  NaN                    NaN   \n",
       "freq            NaN        4331                  NaN                    NaN   \n",
       "mean    3020.500000         NaN            30.639238              11.005795   \n",
       "std     1743.742145         NaN            12.895962               6.450556   \n",
       "min        1.000000         NaN             1.000000               0.000000   \n",
       "25%     1510.750000         NaN            25.000000               6.000000   \n",
       "50%     3020.500000         NaN            25.000000              12.000000   \n",
       "75%     4530.250000         NaN            35.000000              17.000000   \n",
       "max     6040.000000         NaN            56.000000              21.000000   \n",
       "\n",
       "        user_occupation_text user_zip_code  \n",
       "count                   6040          6040  \n",
       "unique                    21          3439  \n",
       "top     college/grad student         48104  \n",
       "freq                     759            19  \n",
       "mean                     NaN           NaN  \n",
       "std                      NaN           NaN  \n",
       "min                      NaN           NaN  \n",
       "25%                      NaN           NaN  \n",
       "50%                      NaN           NaN  \n",
       "75%                      NaN           NaN  \n",
       "max                      NaN           NaN  "
      ]
     },
     "execution_count": 14,
     "metadata": {},
     "output_type": "execute_result"
    }
   ],
   "source": [
    "# Statistics of the Users dataset\n",
    "df_Users.describe(include='all')"
   ]
  },
  {
   "cell_type": "code",
   "execution_count": 15,
   "id": "514728a3",
   "metadata": {},
   "outputs": [
    {
     "data": {
      "text/plain": [
       "user_id                  0\n",
       "user_gender              0\n",
       "bucketized_user_age      0\n",
       "user_occupation_label    0\n",
       "user_occupation_text     0\n",
       "user_zip_code            0\n",
       "dtype: int64"
      ]
     },
     "execution_count": 15,
     "metadata": {},
     "output_type": "execute_result"
    }
   ],
   "source": [
    "# Checking for missing values in the Users dataset\n",
    "df_Users.isnull().sum()"
   ]
  },
  {
   "cell_type": "markdown",
   "id": "6c2e5151",
   "metadata": {},
   "source": [
    "There are no missing values in df_Users."
   ]
  },
  {
   "cell_type": "code",
   "execution_count": 16,
   "id": "18cb3744",
   "metadata": {},
   "outputs": [
    {
     "data": {
      "text/plain": [
       "0"
      ]
     },
     "execution_count": 16,
     "metadata": {},
     "output_type": "execute_result"
    }
   ],
   "source": [
    "# Checking for duplicates in the Ratings dataset\n",
    "df_Users.duplicated().sum()"
   ]
  },
  {
   "cell_type": "markdown",
   "id": "d5100138",
   "metadata": {},
   "source": [
    "There are no fully duplicated rows in df_Users."
   ]
  },
  {
   "cell_type": "markdown",
   "id": "68910d10",
   "metadata": {},
   "source": [
    "# **EXPLORATORY DATA ANALYSIS**"
   ]
  },
  {
   "cell_type": "markdown",
   "id": "45838be2",
   "metadata": {},
   "source": [
    "## **1. DATA CLEANING**"
   ]
  },
  {
   "cell_type": "code",
   "execution_count": 17,
   "id": "ff588ee1",
   "metadata": {},
   "outputs": [],
   "source": [
    "def get_genre_placeholder_url(genre):\n",
    "    genre_group = df_Movies[(df_Movies['movie_genres'] == genre) & (df_Movies['poster_url'].notna())]\n",
    "    if not genre_group.empty:\n",
    "        return genre_group['poster_url'].sample(1).values[0]\n",
    "    else:\n",
    "        return 'https://via.placeholder.com/300x450?text=No+Image'\n"
   ]
  },
  {
   "cell_type": "code",
   "execution_count": 18,
   "id": "7e7da0f1",
   "metadata": {},
   "outputs": [
    {
     "data": {
      "text/html": [
       "<div>\n",
       "<style scoped>\n",
       "    .dataframe tbody tr th:only-of-type {\n",
       "        vertical-align: middle;\n",
       "    }\n",
       "\n",
       "    .dataframe tbody tr th {\n",
       "        vertical-align: top;\n",
       "    }\n",
       "\n",
       "    .dataframe thead th {\n",
       "        text-align: right;\n",
       "    }\n",
       "</style>\n",
       "<table border=\"1\" class=\"dataframe\">\n",
       "  <thead>\n",
       "    <tr style=\"text-align: right;\">\n",
       "      <th></th>\n",
       "      <th>movie_id</th>\n",
       "      <th>movie_title</th>\n",
       "      <th>movie_genres</th>\n",
       "      <th>poster_url</th>\n",
       "    </tr>\n",
       "  </thead>\n",
       "  <tbody>\n",
       "    <tr>\n",
       "      <th>0</th>\n",
       "      <td>3107</td>\n",
       "      <td>Backdraft (1991)</td>\n",
       "      <td>0, 7</td>\n",
       "      <td>https://image.tmdb.org/t/p/w500/bymJtYNIdiAiBR...</td>\n",
       "    </tr>\n",
       "    <tr>\n",
       "      <th>1</th>\n",
       "      <td>2114</td>\n",
       "      <td>Outsiders, The (1983)</td>\n",
       "      <td>7</td>\n",
       "      <td>https://image.tmdb.org/t/p/w500/pl8Tf36TAOb2i5...</td>\n",
       "    </tr>\n",
       "    <tr>\n",
       "      <th>2</th>\n",
       "      <td>256</td>\n",
       "      <td>Junior (1994)</td>\n",
       "      <td>4, 15</td>\n",
       "      <td>https://image.tmdb.org/t/p/w500/4tRF43CbEYHmV8...</td>\n",
       "    </tr>\n",
       "    <tr>\n",
       "      <th>3</th>\n",
       "      <td>1389</td>\n",
       "      <td>Jaws 3-D (1983)</td>\n",
       "      <td>0, 10</td>\n",
       "      <td>https://image.tmdb.org/t/p/w500/kqDXj53F9paqVG...</td>\n",
       "    </tr>\n",
       "    <tr>\n",
       "      <th>4</th>\n",
       "      <td>3635</td>\n",
       "      <td>Spy Who Loved Me, The (1977)</td>\n",
       "      <td>0</td>\n",
       "      <td>https://image.tmdb.org/t/p/w500/3ZxHKFxMYvAko6...</td>\n",
       "    </tr>\n",
       "    <tr>\n",
       "      <th>...</th>\n",
       "      <td>...</td>\n",
       "      <td>...</td>\n",
       "      <td>...</td>\n",
       "      <td>...</td>\n",
       "    </tr>\n",
       "    <tr>\n",
       "      <th>3701</th>\n",
       "      <td>311</td>\n",
       "      <td>Relative Fear (1994)</td>\n",
       "      <td>10, 16</td>\n",
       "      <td>https://image.tmdb.org/t/p/w500/wG6wdsB9lqCwxs...</td>\n",
       "    </tr>\n",
       "    <tr>\n",
       "      <th>3702</th>\n",
       "      <td>2563</td>\n",
       "      <td>Beauty (1998)</td>\n",
       "      <td>7</td>\n",
       "      <td>https://image.tmdb.org/t/p/w500/ph5EjFfSL2doaN...</td>\n",
       "    </tr>\n",
       "    <tr>\n",
       "      <th>3703</th>\n",
       "      <td>763</td>\n",
       "      <td>Last of the High Kings, The (a.k.a. Summer Fli...</td>\n",
       "      <td>7</td>\n",
       "      <td>https://image.tmdb.org/t/p/w500/pSdzsYKg1wpmYp...</td>\n",
       "    </tr>\n",
       "    <tr>\n",
       "      <th>3704</th>\n",
       "      <td>1724</td>\n",
       "      <td>Full Speed (1996)</td>\n",
       "      <td>7</td>\n",
       "      <td>https://image.tmdb.org/t/p/w500/hrExpoA2E2bCrS...</td>\n",
       "    </tr>\n",
       "    <tr>\n",
       "      <th>3705</th>\n",
       "      <td>2584</td>\n",
       "      <td>Foolish (1999)</td>\n",
       "      <td>4</td>\n",
       "      <td>https://image.tmdb.org/t/p/w500/p1WbWy2nq6PXbF...</td>\n",
       "    </tr>\n",
       "  </tbody>\n",
       "</table>\n",
       "<p>3706 rows × 4 columns</p>\n",
       "</div>"
      ],
      "text/plain": [
       "      movie_id                                        movie_title  \\\n",
       "0         3107                                   Backdraft (1991)   \n",
       "1         2114                              Outsiders, The (1983)   \n",
       "2          256                                      Junior (1994)   \n",
       "3         1389                                    Jaws 3-D (1983)   \n",
       "4         3635                       Spy Who Loved Me, The (1977)   \n",
       "...        ...                                                ...   \n",
       "3701       311                               Relative Fear (1994)   \n",
       "3702      2563                                      Beauty (1998)   \n",
       "3703       763  Last of the High Kings, The (a.k.a. Summer Fli...   \n",
       "3704      1724                                  Full Speed (1996)   \n",
       "3705      2584                                     Foolish (1999)   \n",
       "\n",
       "     movie_genres                                         poster_url  \n",
       "0            0, 7  https://image.tmdb.org/t/p/w500/bymJtYNIdiAiBR...  \n",
       "1               7  https://image.tmdb.org/t/p/w500/pl8Tf36TAOb2i5...  \n",
       "2           4, 15  https://image.tmdb.org/t/p/w500/4tRF43CbEYHmV8...  \n",
       "3           0, 10  https://image.tmdb.org/t/p/w500/kqDXj53F9paqVG...  \n",
       "4               0  https://image.tmdb.org/t/p/w500/3ZxHKFxMYvAko6...  \n",
       "...           ...                                                ...  \n",
       "3701       10, 16  https://image.tmdb.org/t/p/w500/wG6wdsB9lqCwxs...  \n",
       "3702            7  https://image.tmdb.org/t/p/w500/ph5EjFfSL2doaN...  \n",
       "3703            7  https://image.tmdb.org/t/p/w500/pSdzsYKg1wpmYp...  \n",
       "3704            7  https://image.tmdb.org/t/p/w500/hrExpoA2E2bCrS...  \n",
       "3705            4  https://image.tmdb.org/t/p/w500/p1WbWy2nq6PXbF...  \n",
       "\n",
       "[3706 rows x 4 columns]"
      ]
     },
     "execution_count": 18,
     "metadata": {},
     "output_type": "execute_result"
    }
   ],
   "source": [
    "df_Movies['poster_url'] = df_Movies.apply(\n",
    "    lambda row: get_genre_placeholder_url(row['movie_genres']) if pd.isna(row['poster_url']) else row['poster_url'],\n",
    "    axis=1\n",
    ")\n",
    "df_Movies\n"
   ]
  },
  {
   "cell_type": "code",
   "execution_count": 19,
   "id": "761130a2",
   "metadata": {},
   "outputs": [
    {
     "data": {
      "text/plain": [
       "0"
      ]
     },
     "execution_count": 19,
     "metadata": {},
     "output_type": "execute_result"
    }
   ],
   "source": [
    "# Check if missing values are filled\n",
    "df_Movies['poster_url'].isna().sum()\n"
   ]
  },
  {
   "cell_type": "markdown",
   "id": "410ea029",
   "metadata": {},
   "source": [
    "## **2. MERGING THE DATAFRAMES**"
   ]
  },
  {
   "cell_type": "code",
   "execution_count": 20,
   "id": "4ec9a511",
   "metadata": {},
   "outputs": [],
   "source": [
    "# Merge Ratings with Movies\n",
    "df_ratings_movies = pd.merge(df_Ratings, df_Movies, on='movie_id', how='inner')\n"
   ]
  },
  {
   "cell_type": "code",
   "execution_count": 21,
   "id": "349b0ed8",
   "metadata": {},
   "outputs": [],
   "source": [
    "# Merge the Result with Users\n",
    "df_Merged = pd.merge(df_ratings_movies, df_Users, on='user_id', how='inner')\n"
   ]
  },
  {
   "cell_type": "code",
   "execution_count": 22,
   "id": "783c8a7c",
   "metadata": {},
   "outputs": [
    {
     "name": "stdout",
     "output_type": "stream",
     "text": [
      "(1000209, 12)\n"
     ]
    },
    {
     "data": {
      "text/html": [
       "<div>\n",
       "<style scoped>\n",
       "    .dataframe tbody tr th:only-of-type {\n",
       "        vertical-align: middle;\n",
       "    }\n",
       "\n",
       "    .dataframe tbody tr th {\n",
       "        vertical-align: top;\n",
       "    }\n",
       "\n",
       "    .dataframe thead th {\n",
       "        text-align: right;\n",
       "    }\n",
       "</style>\n",
       "<table border=\"1\" class=\"dataframe\">\n",
       "  <thead>\n",
       "    <tr style=\"text-align: right;\">\n",
       "      <th></th>\n",
       "      <th>user_id</th>\n",
       "      <th>movie_id</th>\n",
       "      <th>user_rating</th>\n",
       "      <th>timestamp</th>\n",
       "      <th>movie_title</th>\n",
       "      <th>movie_genres</th>\n",
       "      <th>poster_url</th>\n",
       "      <th>user_gender</th>\n",
       "      <th>bucketized_user_age</th>\n",
       "      <th>user_occupation_label</th>\n",
       "      <th>user_occupation_text</th>\n",
       "      <th>user_zip_code</th>\n",
       "    </tr>\n",
       "  </thead>\n",
       "  <tbody>\n",
       "    <tr>\n",
       "      <th>0</th>\n",
       "      <td>130</td>\n",
       "      <td>3107</td>\n",
       "      <td>5.0</td>\n",
       "      <td>977432193</td>\n",
       "      <td>Backdraft (1991)</td>\n",
       "      <td>0, 7</td>\n",
       "      <td>https://image.tmdb.org/t/p/w500/bymJtYNIdiAiBR...</td>\n",
       "      <td>True</td>\n",
       "      <td>35.0</td>\n",
       "      <td>18</td>\n",
       "      <td>technician/engineer</td>\n",
       "      <td>50021</td>\n",
       "    </tr>\n",
       "    <tr>\n",
       "      <th>1</th>\n",
       "      <td>130</td>\n",
       "      <td>3635</td>\n",
       "      <td>5.0</td>\n",
       "      <td>977432166</td>\n",
       "      <td>Spy Who Loved Me, The (1977)</td>\n",
       "      <td>0</td>\n",
       "      <td>https://image.tmdb.org/t/p/w500/3ZxHKFxMYvAko6...</td>\n",
       "      <td>True</td>\n",
       "      <td>35.0</td>\n",
       "      <td>18</td>\n",
       "      <td>technician/engineer</td>\n",
       "      <td>50021</td>\n",
       "    </tr>\n",
       "    <tr>\n",
       "      <th>2</th>\n",
       "      <td>130</td>\n",
       "      <td>288</td>\n",
       "      <td>1.0</td>\n",
       "      <td>977432166</td>\n",
       "      <td>Natural Born Killers (1994)</td>\n",
       "      <td>0, 16</td>\n",
       "      <td>https://image.tmdb.org/t/p/w500/fEKZwT91gxvkAo...</td>\n",
       "      <td>True</td>\n",
       "      <td>35.0</td>\n",
       "      <td>18</td>\n",
       "      <td>technician/engineer</td>\n",
       "      <td>50021</td>\n",
       "    </tr>\n",
       "    <tr>\n",
       "      <th>3</th>\n",
       "      <td>130</td>\n",
       "      <td>2527</td>\n",
       "      <td>3.0</td>\n",
       "      <td>977432283</td>\n",
       "      <td>Westworld (1973)</td>\n",
       "      <td>0, 15, 16, 19</td>\n",
       "      <td>https://image.tmdb.org/t/p/w500/qNt29HzxwZ4jGT...</td>\n",
       "      <td>True</td>\n",
       "      <td>35.0</td>\n",
       "      <td>18</td>\n",
       "      <td>technician/engineer</td>\n",
       "      <td>50021</td>\n",
       "    </tr>\n",
       "    <tr>\n",
       "      <th>4</th>\n",
       "      <td>130</td>\n",
       "      <td>2640</td>\n",
       "      <td>3.0</td>\n",
       "      <td>977432262</td>\n",
       "      <td>Superman (1978)</td>\n",
       "      <td>0, 1, 15</td>\n",
       "      <td>https://image.tmdb.org/t/p/w500/wPLysNDLffQLOV...</td>\n",
       "      <td>True</td>\n",
       "      <td>35.0</td>\n",
       "      <td>18</td>\n",
       "      <td>technician/engineer</td>\n",
       "      <td>50021</td>\n",
       "    </tr>\n",
       "  </tbody>\n",
       "</table>\n",
       "</div>"
      ],
      "text/plain": [
       "   user_id  movie_id  user_rating  timestamp                   movie_title  \\\n",
       "0      130      3107          5.0  977432193              Backdraft (1991)   \n",
       "1      130      3635          5.0  977432166  Spy Who Loved Me, The (1977)   \n",
       "2      130       288          1.0  977432166   Natural Born Killers (1994)   \n",
       "3      130      2527          3.0  977432283              Westworld (1973)   \n",
       "4      130      2640          3.0  977432262               Superman (1978)   \n",
       "\n",
       "    movie_genres                                         poster_url  \\\n",
       "0           0, 7  https://image.tmdb.org/t/p/w500/bymJtYNIdiAiBR...   \n",
       "1              0  https://image.tmdb.org/t/p/w500/3ZxHKFxMYvAko6...   \n",
       "2          0, 16  https://image.tmdb.org/t/p/w500/fEKZwT91gxvkAo...   \n",
       "3  0, 15, 16, 19  https://image.tmdb.org/t/p/w500/qNt29HzxwZ4jGT...   \n",
       "4       0, 1, 15  https://image.tmdb.org/t/p/w500/wPLysNDLffQLOV...   \n",
       "\n",
       "   user_gender  bucketized_user_age  user_occupation_label  \\\n",
       "0         True                 35.0                     18   \n",
       "1         True                 35.0                     18   \n",
       "2         True                 35.0                     18   \n",
       "3         True                 35.0                     18   \n",
       "4         True                 35.0                     18   \n",
       "\n",
       "  user_occupation_text user_zip_code  \n",
       "0  technician/engineer         50021  \n",
       "1  technician/engineer         50021  \n",
       "2  technician/engineer         50021  \n",
       "3  technician/engineer         50021  \n",
       "4  technician/engineer         50021  "
      ]
     },
     "execution_count": 22,
     "metadata": {},
     "output_type": "execute_result"
    }
   ],
   "source": [
    "# Check the Result\n",
    "print(df_Merged.shape)\n",
    "df_Merged.head()\n"
   ]
  },
  {
   "cell_type": "code",
   "execution_count": 23,
   "id": "9bc90e39",
   "metadata": {},
   "outputs": [
    {
     "name": "stdout",
     "output_type": "stream",
     "text": [
      "<class 'pandas.core.frame.DataFrame'>\n",
      "Int64Index: 1000209 entries, 0 to 1000208\n",
      "Data columns (total 12 columns):\n",
      " #   Column                 Non-Null Count    Dtype  \n",
      "---  ------                 --------------    -----  \n",
      " 0   user_id                1000209 non-null  int64  \n",
      " 1   movie_id               1000209 non-null  int64  \n",
      " 2   user_rating            1000209 non-null  float64\n",
      " 3   timestamp              1000209 non-null  int64  \n",
      " 4   movie_title            1000209 non-null  object \n",
      " 5   movie_genres           1000209 non-null  object \n",
      " 6   poster_url             1000209 non-null  object \n",
      " 7   user_gender            1000209 non-null  bool   \n",
      " 8   bucketized_user_age    1000209 non-null  float64\n",
      " 9   user_occupation_label  1000209 non-null  int64  \n",
      " 10  user_occupation_text   1000209 non-null  object \n",
      " 11  user_zip_code          1000209 non-null  object \n",
      "dtypes: bool(1), float64(2), int64(4), object(5)\n",
      "memory usage: 92.5+ MB\n"
     ]
    }
   ],
   "source": [
    "# Get an overview of the df_Merged DataFrame\n",
    "df_Merged.info()"
   ]
  },
  {
   "cell_type": "code",
   "execution_count": 24,
   "id": "09e4db03",
   "metadata": {},
   "outputs": [],
   "source": [
    "# Save the mereged dataframe to an excel file\n",
    "df_Merged.to_excel(\"Data/Merged_movies_dataset.xlsx\", index=False)"
   ]
  },
  {
   "cell_type": "markdown",
   "id": "da082b68",
   "metadata": {},
   "source": [
    "## **3.DATA VISUALIZATION**"
   ]
  },
  {
   "cell_type": "markdown",
   "id": "164bbd1d",
   "metadata": {},
   "source": [
    "#### **1. Distribution of Bucketized User Age**"
   ]
  },
  {
   "cell_type": "code",
   "execution_count": 28,
   "id": "56d91ad8",
   "metadata": {},
   "outputs": [
    {
     "data": {
      "image/png": "[encoded data removed]",
      "text/plain": [
       "<Figure size 576x432 with 1 Axes>"
      ]
     },
     "metadata": {
      "needs_background": "light"
     },
     "output_type": "display_data"
    }
   ],
   "source": [
    "\n",
    "plt.figure(figsize=(8, 6))\n",
    "sns.histplot(df_Merged['bucketized_user_age'], kde=True)\n",
    "plt.title('Distribution of Bucketized User Age')\n",
    "plt.xlabel('Age')\n",
    "plt.ylabel('Frequency')\n",
    "plt.tight_layout()\n",
    "plt.show()\n"
   ]
  },
  {
   "cell_type": "markdown",
   "id": "2c5fed5a",
   "metadata": {},
   "source": [
    "#### **2. Gender Distribution**"
   ]
  },
  {
   "cell_type": "code",
   "execution_count": 32,
   "id": "e7861418",
   "metadata": {},
   "outputs": [
    {
     "data": {
      "image/png": "[encoded data removed]",
      "text/plain": [
       "<Figure size 432x432 with 1 Axes>"
      ]
     },
     "metadata": {
      "needs_background": "light"
     },
     "output_type": "display_data"
    }
   ],
   "source": [
    "# Convert boolean gender to string\n",
    "df_Merged['user_gender_str'] = df_Merged['user_gender'].apply(lambda x: 'Male' if x else 'Female')\n",
    "\n",
    "# Plot the gender distribution\n",
    "plt.figure(figsize=(6, 6))\n",
    "sns.countplot(x='user_gender_str', data=df_Merged)\n",
    "plt.title('Distribution of User Gender')\n",
    "plt.xlabel('Gender')\n",
    "plt.ylabel('Count')\n",
    "plt.tight_layout()\n",
    "plt.show()\n"
   ]
  },
  {
   "cell_type": "markdown",
   "id": "d9d1e4fc",
   "metadata": {},
   "source": [
    "#### **3.Distribution of user ratings**"
   ]
  },
  {
   "cell_type": "code",
   "execution_count": 30,
   "id": "8f08eebc",
   "metadata": {},
   "outputs": [
    {
     "data": {
      "image/png": "[encoded data removed]",
      "text/plain": [
       "<Figure size 576x432 with 1 Axes>"
      ]
     },
     "metadata": {
      "needs_background": "light"
     },
     "output_type": "display_data"
    }
   ],
   "source": [
    "# Distribution of user ratings\n",
    "plt.figure(figsize=(8, 6))\n",
    "sns.histplot(df_Merged['user_rating'], bins=10, kde=True)\n",
    "plt.title('Distribution of User Ratings')\n",
    "plt.xlabel('Rating')\n",
    "plt.ylabel('Frequency')\n",
    "plt.tight_layout()\n",
    "plt.show()"
   ]
  },
  {
   "cell_type": "markdown",
   "id": "023d3734",
   "metadata": {},
   "source": [
    "#### **4. Rating Distributions Across User Occupations**"
   ]
  },
  {
   "cell_type": "code",
   "execution_count": 33,
   "id": "19885baf",
   "metadata": {},
   "outputs": [
    {
     "data": {
      "image/png": "[encoded data removed]",
      "text/plain": [
       "<Figure size 720x432 with 1 Axes>"
      ]
     },
     "metadata": {
      "needs_background": "light"
     },
     "output_type": "display_data"
    }
   ],
   "source": [
    "# Box Plot to compare rating distributions across user occupations\n",
    "plt.figure(figsize=(10, 6))\n",
    "sns.boxplot(x='user_occupation_text', y='user_rating', data=df_Merged)\n",
    "plt.title('User Rating Distribution across Occupations')\n",
    "plt.xlabel('Occupation')\n",
    "plt.ylabel('Rating')\n",
    "plt.xticks(rotation=45, ha='right')\n",
    "plt.tight_layout()\n",
    "plt.show()"
   ]
  },
  {
   "cell_type": "markdown",
   "id": "be804bf4",
   "metadata": {},
   "source": [
    "## **4. DATA MODELLING**"
   ]
  },
  {
   "cell_type": "code",
   "execution_count": 35,
   "id": "c6f3afa3",
   "metadata": {},
   "outputs": [],
   "source": [
    "from sklearn.model_selection import train_test_split\n",
    "from sklearn.linear_model import LogisticRegression\n",
    "from sklearn.metrics import accuracy_score, confusion_matrix, roc_curve, auc\n"
   ]
  },
  {
   "cell_type": "code",
   "execution_count": 37,
   "id": "361f9c63",
   "metadata": {},
   "outputs": [
    {
     "name": "stdout",
     "output_type": "stream",
     "text": [
      "Accuracy of the Logistic Regression model: 0.5742\n"
     ]
    },
    {
     "data": {
      "image/png": "[encoded data removed]",
      "text/plain": [
       "<Figure size 432x360 with 2 Axes>"
      ]
     },
     "metadata": {
      "needs_background": "light"
     },
     "output_type": "display_data"
    }
   ],
   "source": [
    "# Create a binary target variable: 1 if rating >= 4, else 0\n",
    "df_Merged['high_rating'] = df_Merged['user_rating'].apply(lambda x: 1 if x >= 4 else 0)\n",
    "\n",
    "# For simplicity, select a few features to predict high_rating\n",
    "# In practice, selecting features is a key step\n",
    "features = ['bucketized_user_age', 'user_occupation_label']\n",
    "X = df_Merged[features].copy()\n",
    "y = df_Merged['high_rating']\n",
    "\n",
    "# Splitting the data into training and testing sets\n",
    "X_train, X_test, y_train, y_test = train_test_split(X, y, test_size=0.2, random_state=42)\n",
    "\n",
    "# Build a logistic regression model\n",
    "model = LogisticRegression(max_iter=1000)\n",
    "model.fit(X_train, y_train)\n",
    "\n",
    "# Predict on the test set\n",
    "y_pred = model.predict(X_test)\n",
    "accuracy = accuracy_score(y_test, y_pred)\n",
    "print(f'Accuracy of the Logistic Regression model: {accuracy:.4f}')\n",
    "\n",
    "# Confusion Matrix\n",
    "cm = confusion_matrix(y_test, y_pred)\n",
    "plt.figure(figsize=(6, 5))\n",
    "sns.heatmap(cm, annot=True, fmt='d', cmap='Blues')\n",
    "plt.title('Confusion Matrix')\n",
    "plt.xlabel('Predicted')\n",
    "plt.ylabel('Actual')\n",
    "plt.tight_layout()\n",
    "plt.show()\n",
    "\n"
   ]
  },
  {
   "cell_type": "code",
   "execution_count": 38,
   "id": "df504a79",
   "metadata": {},
   "outputs": [
    {
     "data": {
      "image/png": "[encoded data removed]",
      "text/plain": [
       "<Figure size 576x432 with 1 Axes>"
      ]
     },
     "metadata": {
      "needs_background": "light"
     },
     "output_type": "display_data"
    }
   ],
   "source": [
    "# ROC Curve\n",
    "y_probs = model.predict_proba(X_test)[:, 1]\n",
    "fpr, tpr, thresholds = roc_curve(y_test, y_probs)\n",
    "roc_auc = auc(fpr, tpr)\n",
    "\n",
    "plt.figure(figsize=(8, 6))\n",
    "plt.plot(fpr, tpr, label=f'AUC = {roc_auc:.2f}')\n",
    "plt.plot([0, 1], [0, 1], 'k--')\n",
    "plt.xlabel('False Positive Rate')\n",
    "plt.ylabel('True Positive Rate')\n",
    "plt.title('ROC Curve')\n",
    "plt.legend(loc='lower right')\n",
    "plt.tight_layout()\n",
    "plt.show()"
   ]
  }
 ],
 "metadata": {
  "kernelspec": {
   "display_name": "learn-env",
   "language": "python",
   "name": "python3"
  },
  "language_info": {
   "codemirror_mode": {
    "name": "ipython",
    "version": 3
   },
   "file_extension": ".py",
   "mimetype": "text/x-python",
   "name": "python",
   "nbconvert_exporter": "python",
   "pygments_lexer": "ipython3",
   "version": "3.8.5"
  }
 },
 "nbformat": 4,
 "nbformat_minor": 5
}
